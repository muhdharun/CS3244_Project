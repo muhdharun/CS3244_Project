{
 "cells": [
  {
   "cell_type": "code",
   "execution_count": 0,
   "metadata": {
    "colab": {},
    "colab_type": "code",
    "id": "w4MuIOnQujJn"
   },
   "outputs": [],
   "source": [
    "import numpy as np\n",
    "import pandas as pd \n",
    "import os\n",
    "import glob\n",
    "\n",
    "import matplotlib.pyplot as plt\n",
    "from sklearn.model_selection import train_test_split\n",
    "from sklearn.neighbors import KNeighborsClassifier\n",
    "from sklearn.model_selection import cross_val_score\n",
    "from sklearn.preprocessing import MinMaxScaler\n",
    "from sklearn import preprocessing"
   ]
  },
  {
   "cell_type": "code",
   "execution_count": 0,
   "metadata": {
    "colab": {},
    "colab_type": "code",
    "id": "r66UdE_HujJw"
   },
   "outputs": [],
   "source": [
    "def extract_main_category(df): #get the main category from the sub category column\n",
    "    temp = df['category']\n",
    "    mcs = []\n",
    "    for i in temp:\n",
    "        partial = i[i.find('slug')+7:]\n",
    "        partial = partial[:partial.find('\"')]\n",
    "        slash = partial.find('/')\n",
    "        if (slash != -1):\n",
    "            partial = partial[:slash]\n",
    "        mcs.append(partial)\n",
    "    return mcs\n",
    "\n",
    "def get_duration_in_days(df):\n",
    "    start = df['created_at']\n",
    "    end = df['deadline']\n",
    "    durs = []\n",
    "    for i in range(len(start)):\n",
    "        dur = int(end[i]) - int(start[i])\n",
    "        durs.append(dur//86400)\n",
    "    return durs\n",
    "\n",
    "def num_words(df):\n",
    "    blurb = df['blurb']\n",
    "    length = []\n",
    "    for i in blurb:\n",
    "        b = str(i).split(' ')\n",
    "        length.append(len(b))\n",
    "    return length"
   ]
  },
  {
   "cell_type": "code",
   "execution_count": 0,
   "metadata": {
    "colab": {},
    "colab_type": "code",
    "id": "XdXssClbujJ0"
   },
   "outputs": [],
   "source": [
    "extension = 'csv'\n",
    "all_filenames = [i for i in glob.glob('*.{}'.format(extension))]"
   ]
  },
  {
   "cell_type": "code",
   "execution_count": 0,
   "metadata": {
    "colab": {},
    "colab_type": "code",
    "id": "IHzgZRZbujJ5",
    "outputId": "5f5d44c5-d55e-4e17-9529-9bc59569ce8b"
   },
   "outputs": [
    {
     "name": "stderr",
     "output_type": "stream",
     "text": [
      "C:\\Users\\Lenovo\\AppData\\Local\\Programs\\Python\\Python37-32\\lib\\site-packages\\ipykernel_launcher.py:2: FutureWarning: Sorting because non-concatenation axis is not aligned. A future version\n",
      "of pandas will change to not sort by default.\n",
      "\n",
      "To accept the future behavior, pass 'sort=False'.\n",
      "\n",
      "To retain the current behavior and silence the warning, pass 'sort=True'.\n",
      "\n",
      "  \n"
     ]
    },
    {
     "name": "stdout",
     "output_type": "stream",
     "text": [
      "File created: combined_csv.csv\n"
     ]
    }
   ],
   "source": [
    "#combine all files in the list\n",
    "combined_csv = pd.concat([pd.read_csv(f) for f in all_filenames ])\n",
    "#export to csv\n",
    "combined_csv.to_csv( \"combined_csv.csv\", index=False, encoding='utf-8-sig')\n",
    "save = \"combined_csv.csv\"\n",
    "print(\"File created: \" + save)"
   ]
  },
  {
   "cell_type": "code",
   "execution_count": 0,
   "metadata": {
    "colab": {
     "base_uri": "https://localhost:8080/",
     "height": 121
    },
    "colab_type": "code",
    "executionInfo": {
     "elapsed": 26140,
     "status": "ok",
     "timestamp": 1573731975284,
     "user": {
      "displayName": "Muhammad Harun",
      "photoUrl": "https://lh3.googleusercontent.com/a-/AAuE7mBD59iJDXI9txqPLA0ySHWSltZ9jdhW4YzTx9tX8w=s64",
      "userId": "07551827080909121958"
     },
     "user_tz": -480
    },
    "id": "kxk1r9qVu7Wa",
    "outputId": "4640c831-a8dc-4fd6-f1ed-cd814e18eb5f"
   },
   "outputs": [
    {
     "name": "stdout",
     "output_type": "stream",
     "text": [
      "Go to this URL in a browser: https://accounts.google.com/o/oauth2/auth?client_id=947318989803-6bn6qk8qdgf4n4g3pfee6491hc0brc4i.apps.googleusercontent.com&redirect_uri=urn%3Aietf%3Awg%3Aoauth%3A2.0%3Aoob&scope=email%20https%3A%2F%2Fwww.googleapis.com%2Fauth%2Fdocs.test%20https%3A%2F%2Fwww.googleapis.com%2Fauth%2Fdrive%20https%3A%2F%2Fwww.googleapis.com%2Fauth%2Fdrive.photos.readonly%20https%3A%2F%2Fwww.googleapis.com%2Fauth%2Fpeopleapi.readonly&response_type=code\n",
      "\n",
      "Enter your authorization code:\n",
      "··········\n",
      "Mounted at /content/drive\n"
     ]
    }
   ],
   "source": [
    "# Load the Drive helper and mount\n",
    "from google.colab import drive\n",
    "\n",
    "# This will prompt for authorization.\n",
    "drive.mount('/content/drive')"
   ]
  },
  {
   "cell_type": "code",
   "execution_count": 0,
   "metadata": {
    "colab": {
     "base_uri": "https://localhost:8080/",
     "height": 34
    },
    "colab_type": "code",
    "executionInfo": {
     "elapsed": 751,
     "status": "ok",
     "timestamp": 1573732019511,
     "user": {
      "displayName": "Muhammad Harun",
      "photoUrl": "https://lh3.googleusercontent.com/a-/AAuE7mBD59iJDXI9txqPLA0ySHWSltZ9jdhW4YzTx9tX8w=s64",
      "userId": "07551827080909121958"
     },
     "user_tz": -480
    },
    "id": "LsD_cstsvOCJ",
    "outputId": "46a6f65e-a5ef-486e-88d7-25736b5f5efb"
   },
   "outputs": [
    {
     "name": "stdout",
     "output_type": "stream",
     "text": [
      "Drive already mounted at /content/drive; to attempt to forcibly remount, call drive.mount(\"/content/drive\", force_remount=True).\n"
     ]
    }
   ],
   "source": [
    "from google.colab import drive\n",
    "drive.mount('/content/drive')"
   ]
  },
  {
   "cell_type": "code",
   "execution_count": 0,
   "metadata": {
    "colab": {
     "base_uri": "https://localhost:8080/",
     "height": 252
    },
    "colab_type": "code",
    "executionInfo": {
     "elapsed": 10216,
     "status": "ok",
     "timestamp": 1573732112220,
     "user": {
      "displayName": "Muhammad Harun",
      "photoUrl": "https://lh3.googleusercontent.com/a-/AAuE7mBD59iJDXI9txqPLA0ySHWSltZ9jdhW4YzTx9tX8w=s64",
      "userId": "07551827080909121958"
     },
     "user_tz": -480
    },
    "id": "tUY5iZ34ujJ-",
    "outputId": "28e9f6ca-4df7-46ac-c922-c16ac5acbadc"
   },
   "outputs": [
    {
     "name": "stdout",
     "output_type": "stream",
     "text": [
      "                                                    blurb  ...       state\n",
      "0       Funding the mixing, mastering, and promotion o...  ...  successful\n",
      "1       We follow the challenges and achievements of g...  ...  successful\n",
      "2       Task No.1 is inspired by the history and expre...  ...      failed\n",
      "3       MAJOR KEY ALERT - Future Heroes is a Denver ra...  ...  successful\n",
      "4       We're traveling to Rhode Island to film Mako a...  ...  successful\n",
      "...                                                   ...  ...         ...\n",
      "154010  If you played \"Catherine\" then you know I took...  ...      failed\n",
      "154011  Hand drawn pet portraits in coloured pencil by...  ...  successful\n",
      "154012  We've created a secure, affordable and univers...  ...      failed\n",
      "154013  Novel action, adventure, comedy, fiction, fant...  ...      failed\n",
      "154014  Spanish is spoken in many countries, With this...  ...      failed\n",
      "\n",
      "[154015 rows x 8 columns]\n"
     ]
    }
   ],
   "source": [
    "save = \"/content/drive/My Drive/CS3244/Data + Collab Notebook + Report/KNN/combined_csv.csv\"\n",
    "\n",
    "df = pd.read_csv(save)\n",
    "mcs = extract_main_category(df)\n",
    "\n",
    "df['main_category'] = mcs\n",
    "col=['blurb','country','category','launched_at','deadline','goal','name','state']\n",
    "\n",
    "descol=df[col]\n",
    "print(descol)"
   ]
  },
  {
   "cell_type": "code",
   "execution_count": 0,
   "metadata": {
    "colab": {},
    "colab_type": "code",
    "id": "pp-FU6W8ujKB"
   },
   "outputs": [],
   "source": [
    "def decompose(col):\n",
    "    descol=[]\n",
    "    for i in range(len(col)):\n",
    "        str=col[i].split(\",\")\n",
    "        col[i]=str\n",
    "    return col\n",
    "\n",
    "category=decompose(df['category'].values)\n",
    "def findmul(col,target):\n",
    "    desval=[]\n",
    "    for i in range(len(col)):\n",
    "        for ele in col[i]:\n",
    "            if ele.find(target)==True:\n",
    "                desval.append(ele[len(target)+4:-1])\n",
    "    return desval\n",
    "def find(col,target):\n",
    "    desval=[]\n",
    "    for i in range(col.size):\n",
    "        print(col[i])\n",
    "        if col[i]==target:\n",
    "            desval.append(i)\n",
    "    return desval\n"
   ]
  },
  {
   "cell_type": "code",
   "execution_count": 0,
   "metadata": {
    "colab": {
     "base_uri": "https://localhost:8080/",
     "height": 890
    },
    "colab_type": "code",
    "executionInfo": {
     "elapsed": 3023,
     "status": "ok",
     "timestamp": 1573732454216,
     "user": {
      "displayName": "Muhammad Harun",
      "photoUrl": "https://lh3.googleusercontent.com/a-/AAuE7mBD59iJDXI9txqPLA0ySHWSltZ9jdhW4YzTx9tX8w=s64",
      "userId": "07551827080909121958"
     },
     "user_tz": -480
    },
    "id": "XipLjloQujKE",
    "outputId": "dc489328-8d77-4e52-a146-e40eb1d5ab75"
   },
   "outputs": [
    {
     "name": "stderr",
     "output_type": "stream",
     "text": [
      "/usr/local/lib/python3.6/dist-packages/ipykernel_launcher.py:1: SettingWithCopyWarning: \n",
      "A value is trying to be set on a copy of a slice from a DataFrame.\n",
      "Try using .loc[row_indexer,col_indexer] = value instead\n",
      "\n",
      "See the caveats in the documentation: http://pandas.pydata.org/pandas-docs/stable/user_guide/indexing.html#returning-a-view-versus-a-copy\n",
      "  \"\"\"Entry point for launching an IPython kernel.\n",
      "/usr/local/lib/python3.6/dist-packages/ipykernel_launcher.py:4: SettingWithCopyWarning: \n",
      "A value is trying to be set on a copy of a slice from a DataFrame.\n",
      "Try using .loc[row_indexer,col_indexer] = value instead\n",
      "\n",
      "See the caveats in the documentation: http://pandas.pydata.org/pandas-docs/stable/user_guide/indexing.html#returning-a-view-versus-a-copy\n",
      "  after removing the cwd from sys.path.\n",
      "/usr/local/lib/python3.6/dist-packages/ipykernel_launcher.py:11: SettingWithCopyWarning: \n",
      "A value is trying to be set on a copy of a slice from a DataFrame.\n",
      "Try using .loc[row_indexer,col_indexer] = value instead\n",
      "\n",
      "See the caveats in the documentation: http://pandas.pydata.org/pandas-docs/stable/user_guide/indexing.html#returning-a-view-versus-a-copy\n",
      "  # This is added back by InteractiveShellApp.init_path()\n",
      "/usr/local/lib/python3.6/dist-packages/ipykernel_launcher.py:15: SettingWithCopyWarning: \n",
      "A value is trying to be set on a copy of a slice from a DataFrame.\n",
      "Try using .loc[row_indexer,col_indexer] = value instead\n",
      "\n",
      "See the caveats in the documentation: http://pandas.pydata.org/pandas-docs/stable/user_guide/indexing.html#returning-a-view-versus-a-copy\n",
      "  from ipykernel import kernelapp as app\n"
     ]
    },
    {
     "name": "stdout",
     "output_type": "stream",
     "text": [
      "0         2588400\n",
      "1         2294840\n",
      "2         5184000\n",
      "3         1684619\n",
      "4         2592000\n",
      "           ...   \n",
      "154010    2592000\n",
      "154011    2608588\n",
      "154012    3012465\n",
      "154013    1296000\n",
      "154014    2592000\n",
      "Name: length, Length: 154015, dtype: int64\n",
      "done\n",
      "7948800\n",
      "                                                    blurb  ...    length\n",
      "0       Funding the mixing, mastering, and promotion o...  ...  0.325634\n",
      "1       We follow the challenges and achievements of g...  ...  0.288703\n",
      "2       Task No.1 is inspired by the history and expre...  ...  0.652174\n",
      "3       MAJOR KEY ALERT - Future Heroes is a Denver ra...  ...  0.211934\n",
      "4       We're traveling to Rhode Island to film Mako a...  ...  0.326087\n",
      "...                                                   ...  ...       ...\n",
      "154010  If you played \"Catherine\" then you know I took...  ...  0.326087\n",
      "154011  Hand drawn pet portraits in coloured pencil by...  ...  0.328174\n",
      "154012  We've created a secure, affordable and univers...  ...  0.378984\n",
      "154013  Novel action, adventure, comedy, fiction, fant...  ...  0.163043\n",
      "154014  Spanish is spoken in many countries, With this...  ...  0.326087\n",
      "\n",
      "[154015 rows x 9 columns]\n"
     ]
    }
   ],
   "source": [
    "descol['category']=findmul(category,\"name\")\n",
    "df[\"length\"]=df['deadline']-df['launched_at']\n",
    "lol=df[\"length\"].values\n",
    "descol[\"length\"]=lol\n",
    "df['length']=np.zeros(descol['length'].size)\n",
    "print(descol['length'])\n",
    "\n",
    "print('done')\n",
    "lol=descol['length'].max()\n",
    "print(lol)\n",
    "descol['length']=descol['length']/lol\n",
    "descol.drop([\"deadline\",\"launched_at\"],axis=1)\n",
    "print(descol)\n",
    "#descol.to_csv(os.path.join(curdir,savedir),index=False)\n",
    "descol['main_category'] = mcs\n",
    "descol.to_csv(save)"
   ]
  },
  {
   "cell_type": "code",
   "execution_count": 0,
   "metadata": {
    "colab": {},
    "colab_type": "code",
    "id": "w3E6_OEYujKJ"
   },
   "outputs": [],
   "source": [
    "#Text processing and data filtering section\n",
    "\n",
    "file = \"/content/drive/My Drive/CS3244/Data + Collab Notebook + Report/KNN/combined_csv.csv\"\n",
    "\n",
    "df = pd.read_csv(file)"
   ]
  },
  {
   "cell_type": "code",
   "execution_count": 29,
   "metadata": {
    "colab": {
     "base_uri": "https://localhost:8080/",
     "height": 34
    },
    "colab_type": "code",
    "executionInfo": {
     "elapsed": 4683,
     "status": "ok",
     "timestamp": 1573736082294,
     "user": {
      "displayName": "Muhammad Harun",
      "photoUrl": "https://lh3.googleusercontent.com/a-/AAuE7mBD59iJDXI9txqPLA0ySHWSltZ9jdhW4YzTx9tX8w=s64",
      "userId": "07551827080909121958"
     },
     "user_tz": -480
    },
    "id": "4hiMExfFujKO",
    "outputId": "1feb7d4a-a147-4ff0-c59b-d9bc06ba04ca"
   },
   "outputs": [
    {
     "name": "stdout",
     "output_type": "stream",
     "text": [
      "number of data points: 142379\n"
     ]
    }
   ],
   "source": [
    "#only consider 'successful' and 'failed' projects\n",
    "\n",
    "df = df[df.state != 'live']\n",
    "df = df[df.state != 'canceled']\n",
    "df = df[df.state != 'suspended']\n",
    "\n",
    "#split projects into US or not US\n",
    "df['is_US'] = (df.country.str[:] == 'US').astype(int)\n",
    "\n",
    "#For blurb, consider: num chars, num words, end with '!', end with '?'\n",
    "#and is_upper\n",
    "\n",
    "df['blurb_len'] = df.blurb.str.len()\n",
    "df['blurb_exclaim'] = (df.blurb.str[-1]=='!').astype(int)\n",
    "df['blurb_question'] = (df.blurb.str[-1]=='?').astype(int)\n",
    "df['blurb_words'] = df.blurb.apply(lambda x: len(str(x).split(' ')))\n",
    "df['blurb_is_upper'] = df.blurb.str.isupper().astype(float)\n",
    "\n",
    "#Use max-min standardization for goal, num chars and num words for blurb\n",
    "\n",
    "df['n_goal'] = (df['goal']-df['goal'].min())/(df['goal'].max()-df['goal'].min())\n",
    "df['n_blurb_len'] = (df['blurb_len']-df['blurb_len'].min())/(df['blurb_len'].max()-df['blurb_len'].min())\n",
    "df['n_blurb_words'] = (df['blurb_words']-df['blurb_words'].min())/(df['blurb_words'].max()-df['blurb_words'].min())\n",
    "\n",
    "\n",
    "df.dropna(axis=0, how='any', thresh=None, subset=None, inplace=True)\n",
    "\n",
    "#drop any empty columns generated\n",
    "df = df.loc[:, ~df.columns.str.contains('^Unnamed')]\n",
    "df.to_csv(file)\n",
    "print(\"number of data points:\",len(df))\n"
   ]
  },
  {
   "cell_type": "code",
   "execution_count": 30,
   "metadata": {
    "colab": {
     "base_uri": "https://localhost:8080/",
     "height": 104
    },
    "colab_type": "code",
    "executionInfo": {
     "elapsed": 3233,
     "status": "ok",
     "timestamp": 1573736082295,
     "user": {
      "displayName": "Muhammad Harun",
      "photoUrl": "https://lh3.googleusercontent.com/a-/AAuE7mBD59iJDXI9txqPLA0ySHWSltZ9jdhW4YzTx9tX8w=s64",
      "userId": "07551827080909121958"
     },
     "user_tz": -480
    },
    "id": "5x1SKmYbyxED",
    "outputId": "72ac2ee2-1cf4-419e-b82f-a26aa28bd3d7"
   },
   "outputs": [
    {
     "name": "stderr",
     "output_type": "stream",
     "text": [
      "/usr/local/lib/python3.6/dist-packages/sklearn/preprocessing/_encoders.py:415: FutureWarning: The handling of integer data will change in version 0.22. Currently, the categories are determined based on the range [0, max(values)], while in the future they will be determined based on the unique values.\n",
      "If you want the future behaviour and silence this warning, you can specify \"categories='auto'\".\n",
      "In case you used a LabelEncoder before this OneHotEncoder to convert the categories to integers, then you can now use the OneHotEncoder directly.\n",
      "  warnings.warn(msg, FutureWarning)\n"
     ]
    }
   ],
   "source": [
    "#one hot encoding main category column\n",
    "df['main_category'] = df.main_category.astype('category')\n",
    "\n",
    "le = preprocessing.LabelEncoder()\n",
    "df['main_category'] = le.fit_transform(df['main_category'])\n",
    "\n",
    "le = preprocessing.OneHotEncoder()\n",
    "mc = le.fit_transform(df.main_category.values.reshape(-1,1)).toarray()\n",
    "\n",
    "dfOneHot = pd.DataFrame(mc, columns = [\"main_category_\"+str(int(i)) for i in range(mc.shape[1])])\n",
    "df = pd.concat([df, dfOneHot], axis=1)"
   ]
  },
  {
   "cell_type": "code",
   "execution_count": 0,
   "metadata": {
    "colab": {},
    "colab_type": "code",
    "id": "y3R5AhWHujKS"
   },
   "outputs": [],
   "source": [
    "new_df = df\n",
    "y = new_df['state']\n",
    "\n",
    "#mapping state to 0 or 1\n",
    "\n",
    "new_df.rename(columns = {'state':'answer'}, inplace = True)\n",
    "new_df['output'] = np.where(new_df['answer'] == 'successful', 1,0)\n",
    "\n",
    "df = new_df.copy()\n",
    "\n",
    "#remove unused features and unstandardized/unnormalised columns\n",
    "\n",
    "del df['answer']\n",
    "del df['blurb']\n",
    "del new_df['blurb']\n",
    "del df['name']\n",
    "del new_df['name']\n",
    "del df['country']\n",
    "del new_df['country']\n",
    "del df['category']\n",
    "del new_df['category']\n",
    "del df['main_category']\n",
    "del new_df['main_category']\n"
   ]
  },
  {
   "cell_type": "code",
   "execution_count": 0,
   "metadata": {
    "colab": {},
    "colab_type": "code",
    "id": "2Ntq5R4K1BH7"
   },
   "outputs": [],
   "source": [
    "#Uncomment the following lines to run the KNN model without the blurb data,\n",
    "#else comment them\n",
    "\n",
    "##del df['blurb_exclaim']\n",
    "##del df['blurb_question']\n",
    "##del df['n_blurb_len']\n",
    "##del df['n_blurb_words']\n",
    "##del new_df['blurb_exclaim']\n",
    "##del new_df['blurb_question']\n",
    "##del new_df['n_blurb_len']\n",
    "##del new_df['n_blurb_words']"
   ]
  },
  {
   "cell_type": "code",
   "execution_count": 0,
   "metadata": {
    "colab": {},
    "colab_type": "code",
    "id": "1pus8h0o1L_a"
   },
   "outputs": [],
   "source": [
    "def accuracy(x_test,y_test,y_predict):\n",
    "    count=0\n",
    "    \n",
    "    for i in range(len(y_test)):\n",
    "        if y_test[i]==y_predict[i]:\n",
    "            count+=1\n",
    "    return count/len(y_test)\n",
    "\n",
    "df.dropna(axis=0, how='any', thresh=None, subset=None, inplace=True)\n",
    "new_df.dropna(axis=0, how='any', thresh=None, subset=None, inplace=True)\n",
    "def falsepos(x_test,y_test,y_predict):\n",
    "    count1=0\n",
    "    count2=0\n",
    "    for i in range(len(y_test)):\n",
    "        if y_test[i]!=y_predict[i] and y_predict[i]=='successful':\n",
    "            count1+=1\n",
    "        if y_test[i]=='failed':\n",
    "            count2+=1\n",
    "    #return count1/count2\n",
    "    return count1/len(y_test)\n",
    "def falseneg(x_test,y_test,y_predict):\n",
    "    count1=0\n",
    "    count2=0\n",
    "    for i in range(len(y_test)):\n",
    "        if y_test[i]!=y_predict[i] and y_predict[i]=='failed':\n",
    "            count1+=1\n",
    "        if y_test[i]=='successful':\n",
    "            count2+=1\n",
    "    #return count1/count2 \n",
    "    return count1/len(y_test)\n",
    "\n",
    " \n",
    "def recall(x_test,y_test,y_predict):\n",
    "    count1=0\n",
    "    count2=0\n",
    "    for i in range(len(y_test)):\n",
    "        if y_test[i]==y_predict[i] and y_predict[i]=='successful':\n",
    "            count1+=1\n",
    "        if y_test[i]!=y_predict[i] and y_test[i]=='successful':\n",
    "            count2+=1\n",
    "    return count1/(count1+count2)\n",
    "\n",
    "def precision(x_test,y_test,y_predict):\n",
    "    count1=0\n",
    "    count2=0\n",
    "    for i in range(len(y_test)):\n",
    "        if y_test[i]==y_predict[i] and y_predict[i]=='successful':\n",
    "            count1+=1\n",
    "        if y_test[i]!=y_predict[i] and y_test[i]=='failed':\n",
    "            count2+=1\n",
    "    return count1/(count1+count2)\n",
    "\n",
    "def f1score(x_test,y_test,y_predict):\n",
    " \n",
    " count=0\n",
    " index=0 \n",
    " return 2*recall(x_test,y_test,y_predict)*precision(x_test,y_test,y_predict)/(recall(x_test,y_test,y_predict)+precision(x_test,y_test,y_predict))\n",
    "\n"
   ]
  },
  {
   "cell_type": "code",
   "execution_count": 36,
   "metadata": {
    "colab": {
     "base_uri": "https://localhost:8080/",
     "height": 538
    },
    "colab_type": "code",
    "executionInfo": {
     "elapsed": 17708,
     "status": "ok",
     "timestamp": 1573736171181,
     "user": {
      "displayName": "Muhammad Harun",
      "photoUrl": "https://lh3.googleusercontent.com/a-/AAuE7mBD59iJDXI9txqPLA0ySHWSltZ9jdhW4YzTx9tX8w=s64",
      "userId": "07551827080909121958"
     },
     "user_tz": -480
    },
    "id": "iQISZtHA1R_s",
    "outputId": "89e39bdf-7b5b-4903-feeb-df988f1ef5f0"
   },
   "outputs": [
    {
     "name": "stdout",
     "output_type": "stream",
     "text": [
      "['successful' 'failed' 'successful' ... 'failed' 'successful' 'successful']\n",
      "acc k= 1 0.7698591549295775\n",
      "false positive= 0.12091549295774648\n",
      "false negative= 0.10922535211267606\n",
      "f1 score= 0.8136511375947996\n",
      "=========================\n",
      "['successful' 'failed' 'successful' ... 'successful' 'failed' 'successful']\n",
      "acc k= 3 0.6916197183098591\n",
      "false positive= 0.16848591549295774\n",
      "false negative= 0.1398943661971831\n",
      "f1 score= 0.7551031821486495\n",
      "=========================\n",
      "['failed' 'successful' 'successful' ... 'successful' 'successful'\n",
      " 'successful']\n",
      "acc k= 5 0.6809859154929577\n",
      "false positive= 0.18140845070422534\n",
      "false negative= 0.1376056338028169\n",
      "f1 score= 0.7475901264835348\n",
      "=========================\n",
      "['successful' 'failed' 'successful' ... 'failed' 'failed' 'successful']\n",
      "acc k= 7 0.6777816901408451\n",
      "false positive= 0.19024647887323945\n",
      "false negative= 0.1319718309859155\n",
      "f1 score= 0.7479549398187678\n",
      "=========================\n",
      "['successful' 'successful' 'successful' ... 'failed' 'successful' 'failed']\n",
      "acc k= 9 0.675774647887324\n",
      "false positive= 0.19461267605633803\n",
      "false negative= 0.12961267605633803\n",
      "f1 score= 0.7479194042925974\n",
      "=========================\n"
     ]
    }
   ],
   "source": [
    "for i in range(1,10,2):\n",
    "  \n",
    "    X_train, X_test, y_train, y_test = train_test_split(df.values[:142000],new_df['answer'].values[:142000],test_size = 0.20)\n",
    "    knn = KNeighborsClassifier(n_neighbors=i)\n",
    "    knn.fit(X_train,y_train)\n",
    "    y_pred = knn.predict(X_test)\n",
    "    print(y_pred)\n",
    "    print(\"acc k=\",i,accuracy(X_test,y_test,y_pred))\n",
    "    print(\"false positive=\",falsepos(X_test,y_test,y_pred))\n",
    "    print(\"false negative=\",falseneg(X_test,y_test,y_pred))\n",
    "    print(\"f1 score=\",f1score(X_test,y_test,y_pred))\n",
    "    print(\"=========================\")"
   ]
  }
 ],
 "metadata": {
  "colab": {
   "collapsed_sections": [],
   "name": "KNNModel_w_data_and_text_processing.ipynb",
   "provenance": []
  },
  "kernelspec": {
   "display_name": "Python 3",
   "language": "python",
   "name": "python3"
  },
  "language_info": {
   "codemirror_mode": {
    "name": "ipython",
    "version": 3
   },
   "file_extension": ".py",
   "mimetype": "text/x-python",
   "name": "python",
   "nbconvert_exporter": "python",
   "pygments_lexer": "ipython3",
   "version": "3.7.6"
  }
 },
 "nbformat": 4,
 "nbformat_minor": 1
}
